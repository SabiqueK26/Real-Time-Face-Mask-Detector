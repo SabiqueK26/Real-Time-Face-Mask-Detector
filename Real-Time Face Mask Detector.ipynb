{
 "cells": [
  {
   "cell_type": "code",
   "execution_count": 1,
   "metadata": {},
   "outputs": [],
   "source": [
    "from keras.optimizers import RMSprop\n",
    "from keras.preprocessing.image import ImageDataGenerator\n",
    "import cv2\n",
    "from keras.layers import Convolution2D\n",
    "from keras.models import Sequential\n",
    "from keras.layers import Conv2D, Input, ZeroPadding2D, BatchNormalization, Activation, MaxPooling2D, Flatten, Dense,Dropout\n",
    "from keras.models import Model, load_model\n",
    "from keras.callbacks import TensorBoard, ModelCheckpoint\n",
    "from sklearn.model_selection import train_test_split\n",
    "from sklearn.metrics import f1_score\n",
    "from sklearn.utils import shuffle\n",
    "import imutils\n",
    "import numpy as np"
   ]
  },
  {
   "cell_type": "code",
   "execution_count": 2,
   "metadata": {},
   "outputs": [],
   "source": [
    "model = Sequential([\n",
    "    Conv2D(100, (3,3), activation='relu', input_shape=(150, 150, 3)),\n",
    "    MaxPooling2D(2,2),\n",
    "    \n",
    "    Conv2D(100, (3,3), activation='relu'),\n",
    "    MaxPooling2D(2,2),\n",
    "    \n",
    "    Flatten(),\n",
    "    Dropout(0.5),\n",
    "    Dense(50, activation='relu'),\n",
    "    Dense(2, activation='softmax')\n",
    "])\n",
    "model.compile(optimizer='adam', loss='binary_crossentropy', metrics=['acc'])"
   ]
  },
  {
   "cell_type": "code",
   "execution_count": 3,
   "metadata": {},
   "outputs": [
    {
     "name": "stdout",
     "output_type": "stream",
     "text": [
      "Found 1270 images belonging to 2 classes.\n",
      "Found 194 images belonging to 2 classes.\n"
     ]
    }
   ],
   "source": [
    "TRAINING_DIR = \"./Dataset/train\"\n",
    "train_datagen = ImageDataGenerator(rescale=1.0/255,\n",
    "                                   rotation_range=40,\n",
    "                                   width_shift_range=0.2,\n",
    "                                   height_shift_range=0.2,\n",
    "                                   shear_range=0.2,\n",
    "                                   zoom_range=0.2,\n",
    "                                   horizontal_flip=True,\n",
    "                                   fill_mode='nearest')\n",
    "\n",
    "train_generator = train_datagen.flow_from_directory(TRAINING_DIR, \n",
    "                                                    batch_size=10, \n",
    "                                                    target_size=(150, 150))\n",
    "\n",
    "VALIDATION_DIR = \"./Dataset/test\"\n",
    "validation_datagen = ImageDataGenerator(rescale=1.0/255)\n",
    "\n",
    "validation_generator = validation_datagen.flow_from_directory(VALIDATION_DIR, \n",
    "                                                         batch_size=10, \n",
    "                                                         target_size=(150, 150))"
   ]
  },
  {
   "cell_type": "code",
   "execution_count": 19,
   "metadata": {},
   "outputs": [
    {
     "name": "stderr",
     "output_type": "stream",
     "text": [
      "100%|███████████████████████████████████████████████████████████████████████████████| 658/658 [00:06<00:00, 109.25it/s]\n",
      "100%|███████████████████████████████████████████████████████████████████████████████| 612/612 [00:04<00:00, 146.94it/s]"
     ]
    },
    {
     "name": "stdout",
     "output_type": "stream",
     "text": [
      "1270\n"
     ]
    },
    {
     "name": "stderr",
     "output_type": "stream",
     "text": [
      "\n"
     ]
    }
   ],
   "source": [
    "import os\n",
    "from tqdm import tqdm\n",
    "import matplotlib.pyplot as plt\n",
    "\n",
    "CATEGORIES = ('with_mask', 'without_mask')\n",
    "\n",
    "IMG_SIZE = 150\n",
    "train_data = []\n",
    "\n",
    "for i in CATEGORIES:\n",
    "    path = os.path.join(TRAINING_DIR, i)\n",
    "    class_num = CATEGORIES.index(i)\n",
    "    \n",
    "    for img in tqdm(os.listdir(path)):\n",
    "        try:\n",
    "            img_array = cv2.imread(os.path.join(path,img), cv2.IMREAD_COLOR)\n",
    "            img_resized = cv2.resize(img_array, (IMG_SIZE, IMG_SIZE))\n",
    "            train_data.append([img_resized, class_num])\n",
    "        except Exception as e:\n",
    "            pass\n",
    "    \n",
    "print(len(train_data))"
   ]
  },
  {
   "cell_type": "code",
   "execution_count": 20,
   "metadata": {},
   "outputs": [],
   "source": [
    "checkpoint = ModelCheckpoint('model2-{epoch:03d}.model',monitor='val_loss',verbose=0,save_best_only=True,mode='auto')"
   ]
  },
  {
   "cell_type": "code",
   "execution_count": 21,
   "metadata": {},
   "outputs": [
    {
     "name": "stdout",
     "output_type": "stream",
     "text": [
      "Epoch 1/10\n",
      "127/127 [==============================] - ETA: 0s - loss: 0.2319 - acc: 0.9157INFO:tensorflow:Assets written to: model2-001.model\\assets\n",
      "127/127 [==============================] - 115s 904ms/step - loss: 0.2319 - acc: 0.9157 - val_loss: 0.0791 - val_acc: 0.9845\n",
      "Epoch 2/10\n",
      "127/127 [==============================] - ETA: 0s - loss: 0.1823 - acc: 0.9386INFO:tensorflow:Assets written to: model2-002.model\\assets\n",
      "127/127 [==============================] - 107s 843ms/step - loss: 0.1823 - acc: 0.9386 - val_loss: 0.0387 - val_acc: 0.9845\n",
      "Epoch 3/10\n",
      "127/127 [==============================] - 109s 855ms/step - loss: 0.1772 - acc: 0.9417 - val_loss: 0.0778 - val_acc: 0.9897\n",
      "Epoch 4/10\n",
      "127/127 [==============================] - 110s 865ms/step - loss: 0.1995 - acc: 0.9283 - val_loss: 0.1422 - val_acc: 0.9330\n",
      "Epoch 5/10\n",
      "127/127 [==============================] - 119s 935ms/step - loss: 0.2050 - acc: 0.9236 - val_loss: 0.0931 - val_acc: 0.9691\n",
      "Epoch 6/10\n",
      "127/127 [==============================] - ETA: 0s - loss: 0.1635 - acc: 0.9449INFO:tensorflow:Assets written to: model2-006.model\\assets\n",
      "127/127 [==============================] - 93s 729ms/step - loss: 0.1635 - acc: 0.9449 - val_loss: 0.0276 - val_acc: 0.9845\n",
      "Epoch 7/10\n",
      "127/127 [==============================] - 88s 693ms/step - loss: 0.1892 - acc: 0.9394 - val_loss: 0.1351 - val_acc: 0.9381\n",
      "Epoch 8/10\n",
      "127/127 [==============================] - 87s 687ms/step - loss: 0.2051 - acc: 0.9244 - val_loss: 0.0722 - val_acc: 0.9691\n",
      "Epoch 9/10\n",
      "127/127 [==============================] - 88s 692ms/step - loss: 0.1816 - acc: 0.9260 - val_loss: 0.0395 - val_acc: 1.0000\n",
      "Epoch 10/10\n",
      "127/127 [==============================] - 87s 686ms/step - loss: 0.1589 - acc: 0.9449 - val_loss: 0.2145 - val_acc: 0.8969\n"
     ]
    }
   ],
   "source": [
    "history = model.fit_generator(train_generator,\n",
    "                              epochs=10,\n",
    "                              validation_data=validation_generator,\n",
    "                              callbacks=[checkpoint])"
   ]
  },
  {
   "cell_type": "code",
   "execution_count": 22,
   "metadata": {},
   "outputs": [],
   "source": [
    "from keras.models import load_model\n",
    "model=load_model(\"./model2-005.model\")"
   ]
  },
  {
   "cell_type": "code",
   "execution_count": 26,
   "metadata": {
    "scrolled": true
   },
   "outputs": [],
   "source": [
    "results={0:'without mask',1:'mask'}\n",
    "GR_dict={0:(0,0,255),1:(0,255,0)}\n",
    "\n",
    "rect_size = 4\n",
    "cap = cv2.VideoCapture(0)\n",
    "\n",
    "haarcascade = cv2.CascadeClassifier('./haarcascade_frontalface_default.xml')\n",
    "\n",
    "while True:\n",
    "    (rval, im) = cap.read()\n",
    "    im = cv2.flip(im,1,1)\n",
    "    \n",
    "    rerect_size = cv2.resize(im, (im.shape[1] // rect_size, im.shape[0] // rect_size))\n",
    "    faces = haarcascade.detectMultiScale(rerect_size)\n",
    "    for f in faces:\n",
    "        (x, y, w, h) = [v * rect_size for v in f] \n",
    "        \n",
    "        face_img = im[y:y+h, x:x+w]\n",
    "        rerect_sized=cv2.resize(face_img,(150,150))\n",
    "        normalized=rerect_sized/255.0\n",
    "        reshaped=np.reshape(normalized,(1,150,150,3))\n",
    "        reshaped = np.vstack([reshaped])\n",
    "        result=model.predict(reshaped)\n",
    "\n",
    "        \n",
    "        label=np.argmax(result,axis=1)[0]\n",
    "      \n",
    "        cv2.rectangle(im,(x,y),(x+w,y+h),GR_dict[label],2)\n",
    "        cv2.rectangle(im,(x,y-40),(x+w,y),GR_dict[label],-1)\n",
    "        cv2.putText(im, results[label], (x, y-10),cv2.FONT_HERSHEY_SIMPLEX,0.8,(255,255,255),2)\n",
    "\n",
    "    cv2.imshow('LIVE', im)\n",
    "    key = cv2.waitKey(10)\n",
    "    \n",
    "    if key == 27: \n",
    "        break\n",
    "\n",
    "cap.release()\n",
    "\n",
    "cv2.destroyAllWindows()"
   ]
  },
  {
   "cell_type": "code",
   "execution_count": null,
   "metadata": {},
   "outputs": [],
   "source": []
  }
 ],
 "metadata": {
  "kernelspec": {
   "display_name": "Python 3",
   "language": "python",
   "name": "python3"
  },
  "language_info": {
   "codemirror_mode": {
    "name": "ipython",
    "version": 3
   },
   "file_extension": ".py",
   "mimetype": "text/x-python",
   "name": "python",
   "nbconvert_exporter": "python",
   "pygments_lexer": "ipython3",
   "version": "3.7.7"
  }
 },
 "nbformat": 4,
 "nbformat_minor": 4
}
